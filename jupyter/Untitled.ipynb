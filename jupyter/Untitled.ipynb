{
 "cells": [
  {
   "cell_type": "code",
   "execution_count": 1,
   "metadata": {},
   "outputs": [],
   "source": [
    "import pandas as pd\n",
    "import json\n",
    "# File to Load (Remember to Change These)\n",
    "file_to_load  = \"dataset.csv\"\n",
    "\n",
    "# Read Purchasing File and store into Pandas data frame\n",
    "locations_csv = pd.read_csv(file_to_load)"
   ]
  },
  {
   "cell_type": "code",
   "execution_count": 2,
   "metadata": {},
   "outputs": [
    {
     "data": {
      "text/html": [
       "<div>\n",
       "<style scoped>\n",
       "    .dataframe tbody tr th:only-of-type {\n",
       "        vertical-align: middle;\n",
       "    }\n",
       "\n",
       "    .dataframe tbody tr th {\n",
       "        vertical-align: top;\n",
       "    }\n",
       "\n",
       "    .dataframe thead th {\n",
       "        text-align: right;\n",
       "    }\n",
       "</style>\n",
       "<table border=\"1\" class=\"dataframe\">\n",
       "  <thead>\n",
       "    <tr style=\"text-align: right;\">\n",
       "      <th></th>\n",
       "      <th>Country</th>\n",
       "      <th>Region</th>\n",
       "      <th>Hemisphere</th>\n",
       "      <th>HappinessScore</th>\n",
       "      <th>HDI</th>\n",
       "      <th>GDP_PerCapita</th>\n",
       "      <th>Beer_PerCapita</th>\n",
       "      <th>Spirit_PerCapita</th>\n",
       "      <th>Wine_PerCapita</th>\n",
       "    </tr>\n",
       "  </thead>\n",
       "  <tbody>\n",
       "    <tr>\n",
       "      <th>0</th>\n",
       "      <td>Denmark</td>\n",
       "      <td>Western Europe</td>\n",
       "      <td>north</td>\n",
       "      <td>7.526</td>\n",
       "      <td>928</td>\n",
       "      <td>53.579</td>\n",
       "      <td>224</td>\n",
       "      <td>81</td>\n",
       "      <td>278</td>\n",
       "    </tr>\n",
       "    <tr>\n",
       "      <th>1</th>\n",
       "      <td>Switzerland</td>\n",
       "      <td>Western Europe</td>\n",
       "      <td>north</td>\n",
       "      <td>7.509</td>\n",
       "      <td>943</td>\n",
       "      <td>79.866</td>\n",
       "      <td>185</td>\n",
       "      <td>100</td>\n",
       "      <td>280</td>\n",
       "    </tr>\n",
       "    <tr>\n",
       "      <th>2</th>\n",
       "      <td>Iceland</td>\n",
       "      <td>Western Europe</td>\n",
       "      <td>north</td>\n",
       "      <td>7.501</td>\n",
       "      <td>933</td>\n",
       "      <td>60.530</td>\n",
       "      <td>233</td>\n",
       "      <td>61</td>\n",
       "      <td>78</td>\n",
       "    </tr>\n",
       "    <tr>\n",
       "      <th>3</th>\n",
       "      <td>Norway</td>\n",
       "      <td>Western Europe</td>\n",
       "      <td>north</td>\n",
       "      <td>7.498</td>\n",
       "      <td>951</td>\n",
       "      <td>70.890</td>\n",
       "      <td>169</td>\n",
       "      <td>71</td>\n",
       "      <td>129</td>\n",
       "    </tr>\n",
       "    <tr>\n",
       "      <th>4</th>\n",
       "      <td>Finland</td>\n",
       "      <td>Western Europe</td>\n",
       "      <td>north</td>\n",
       "      <td>7.413</td>\n",
       "      <td>918</td>\n",
       "      <td>43.433</td>\n",
       "      <td>263</td>\n",
       "      <td>133</td>\n",
       "      <td>97</td>\n",
       "    </tr>\n",
       "  </tbody>\n",
       "</table>\n",
       "</div>"
      ],
      "text/plain": [
       "       Country          Region Hemisphere  HappinessScore  HDI  GDP_PerCapita  \\\n",
       "0      Denmark  Western Europe      north           7.526  928         53.579   \n",
       "1  Switzerland  Western Europe      north           7.509  943         79.866   \n",
       "2      Iceland  Western Europe      north           7.501  933         60.530   \n",
       "3       Norway  Western Europe      north           7.498  951         70.890   \n",
       "4      Finland  Western Europe      north           7.413  918         43.433   \n",
       "\n",
       "   Beer_PerCapita  Spirit_PerCapita  Wine_PerCapita  \n",
       "0             224                81             278  \n",
       "1             185               100             280  \n",
       "2             233                61              78  \n",
       "3             169                71             129  \n",
       "4             263               133              97  "
      ]
     },
     "execution_count": 2,
     "metadata": {},
     "output_type": "execute_result"
    }
   ],
   "source": [
    "locations_csv.head()"
   ]
  },
  {
   "cell_type": "code",
   "execution_count": 3,
   "metadata": {},
   "outputs": [],
   "source": [
    "locations_csv = locations_csv.set_index(\"Country\")\n",
    "loc_transposed = locations_csv.transpose()\n"
   ]
  },
  {
   "cell_type": "code",
   "execution_count": 4,
   "metadata": {},
   "outputs": [
    {
     "data": {
      "text/plain": [
       "'{\"Denmark\":{\"Region\":\"Western Europe\",\"Hemisphere\":\"north\",\"HappinessScore\":7.526,\"HDI\":928,\"GDP_PerCapita\":53.579,\"Beer_PerCapita\":224,\"Spirit_PerCapita\":81,\"Wine_PerCapita\":278},\"Switzerland\":{\"Region\":\"Western Europe\",\"Hemisphere\":\"north\",\"HappinessScore\":7.509,\"HDI\":943,\"GDP_PerCapita\":79.866,\"Beer_PerCapita\":185,\"Spirit_PerCapita\":100,\"Wine_PerCapita\":280},\"Iceland\":{\"Region\":\"Western Europe\",\"Hemisphere\":\"north\",\"HappinessScore\":7.501,\"HDI\":933,\"GDP_PerCapita\":60.53,\"Beer_PerCapita\":233,\"Spirit_PerCapita\":61,\"Wine_PerCapita\":78},\"Norway\":{\"Region\":\"Western Europe\",\"Hemisphere\":\"north\",\"HappinessScore\":7.498,\"HDI\":951,\"GDP_PerCapita\":70.89,\"Beer_PerCapita\":169,\"Spirit_PerCapita\":71,\"Wine_PerCapita\":129},\"Finland\":{\"Region\":\"Western Europe\",\"Hemisphere\":\"north\",\"HappinessScore\":7.413,\"HDI\":918,\"GDP_PerCapita\":43.433,\"Beer_PerCapita\":263,\"Spirit_PerCapita\":133,\"Wine_PerCapita\":97},\"Canada\":{\"Region\":\"North America\",\"Hemisphere\":\"north\",\"HappinessScore\":7.404,\"HDI\":922,\"GDP_PerCapita\":42.349,\"Beer_PerCapita\":240,\"Spirit_PerCapita\":122,\"Wine_PerCapita\":100},\"Netherlands\":{\"Region\":\"Western Europe\",\"Hemisphere\":\"north\",\"HappinessScore\":7.339,\"HDI\":928,\"GDP_PerCapita\":45.638,\"Beer_PerCapita\":251,\"Spirit_PerCapita\":88,\"Wine_PerCapita\":190},\"New Zealand\":{\"Region\":\"Australia and New Zealand\",\"Hemisphere\":\"south\",\"HappinessScore\":7.334,\"HDI\":915,\"GDP_PerCapita\":40.332,\"Beer_PerCapita\":203,\"Spirit_PerCapita\":79,\"Wine_PerCapita\":175},\"Australia\":{\"Region\":\"Australia and New Zealand\",\"Hemisphere\":\"south\",\"HappinessScore\":7.313,\"HDI\":938,\"GDP_PerCapita\":49.897,\"Beer_PerCapita\":261,\"Spirit_PerCapita\":72,\"Wine_PerCapita\":212},\"Sweden\":{\"Region\":\"Western Europe\",\"Hemisphere\":\"north\",\"HappinessScore\":7.291,\"HDI\":932,\"GDP_PerCapita\":51.845,\"Beer_PerCapita\":152,\"Spirit_PerCapita\":60,\"Wine_PerCapita\":186},\"Israel\":{\"Region\":\"Middle East and Northern Africa\",\"Hemisphere\":\"north\",\"HappinessScore\":7.267,\"HDI\":902,\"GDP_PerCapita\":37.181,\"Beer_PerCapita\":63,\"Spirit_PerCapita\":69,\"Wine_PerCapita\":9},\"Austria\":{\"Region\":\"Western Europe\",\"Hemisphere\":\"north\",\"HappinessScore\":7.119,\"HDI\":906,\"GDP_PerCapita\":44.731,\"Beer_PerCapita\":279,\"Spirit_PerCapita\":75,\"Wine_PerCapita\":191},\"United States\":{\"Region\":\"North America\",\"Hemisphere\":\"north\",\"HappinessScore\":7.104,\"HDI\":922,\"GDP_PerCapita\":57.589,\"Beer_PerCapita\":249,\"Spirit_PerCapita\":158,\"Wine_PerCapita\":84},\"Costa Rica\":{\"Region\":\"Latin America and Caribbean\",\"Hemisphere\":\"north\",\"HappinessScore\":7.087,\"HDI\":791,\"GDP_PerCapita\":11.733,\"Beer_PerCapita\":149,\"Spirit_PerCapita\":87,\"Wine_PerCapita\":11},\"Germany\":{\"Region\":\"Western Europe\",\"Hemisphere\":\"north\",\"HappinessScore\":6.994,\"HDI\":934,\"GDP_PerCapita\":42.233,\"Beer_PerCapita\":346,\"Spirit_PerCapita\":117,\"Wine_PerCapita\":175},\"Brazil\":{\"Region\":\"Latin America and Caribbean\",\"Hemisphere\":\"both\",\"HappinessScore\":6.952,\"HDI\":758,\"GDP_PerCapita\":8.639,\"Beer_PerCapita\":245,\"Spirit_PerCapita\":145,\"Wine_PerCapita\":16},\"Belgium\":{\"Region\":\"Western Europe\",\"Hemisphere\":\"north\",\"HappinessScore\":6.929,\"HDI\":915,\"GDP_PerCapita\":41.261,\"Beer_PerCapita\":295,\"Spirit_PerCapita\":84,\"Wine_PerCapita\":212},\"Ireland\":{\"Region\":\"Western Europe\",\"Hemisphere\":\"north\",\"HappinessScore\":6.907,\"HDI\":934,\"GDP_PerCapita\":64.1,\"Beer_PerCapita\":313,\"Spirit_PerCapita\":118,\"Wine_PerCapita\":165},\"Luxembourg\":{\"Region\":\"Western Europe\",\"Hemisphere\":\"north\",\"HappinessScore\":6.871,\"HDI\":904,\"GDP_PerCapita\":100.739,\"Beer_PerCapita\":236,\"Spirit_PerCapita\":133,\"Wine_PerCapita\":271},\"Mexico\":{\"Region\":\"Latin America and Caribbean\",\"Hemisphere\":\"north\",\"HappinessScore\":6.778,\"HDI\":772,\"GDP_PerCapita\":8.444,\"Beer_PerCapita\":238,\"Spirit_PerCapita\":68,\"Wine_PerCapita\":5},\"Singapore\":{\"Region\":\"Southeastern Asia\",\"Hemisphere\":\"north\",\"HappinessScore\":6.739,\"HDI\":930,\"GDP_PerCapita\":55.243,\"Beer_PerCapita\":60,\"Spirit_PerCapita\":12,\"Wine_PerCapita\":11},\"United Kingdom\":{\"Region\":\"Western Europe\",\"Hemisphere\":\"north\",\"HappinessScore\":6.725,\"HDI\":920,\"GDP_PerCapita\":40.412,\"Beer_PerCapita\":219,\"Spirit_PerCapita\":126,\"Wine_PerCapita\":195},\"Chile\":{\"Region\":\"Latin America and Caribbean\",\"Hemisphere\":\"south\",\"HappinessScore\":6.705,\"HDI\":842,\"GDP_PerCapita\":13.961,\"Beer_PerCapita\":130,\"Spirit_PerCapita\":124,\"Wine_PerCapita\":172},\"Panama\":{\"Region\":\"Latin America and Caribbean\",\"Hemisphere\":\"north\",\"HappinessScore\":6.701,\"HDI\":785,\"GDP_PerCapita\":14.333,\"Beer_PerCapita\":285,\"Spirit_PerCapita\":104,\"Wine_PerCapita\":18},\"Argentina\":{\"Region\":\"Latin America and Caribbean\",\"Hemisphere\":\"south\",\"HappinessScore\":6.65,\"HDI\":822,\"GDP_PerCapita\":12.654,\"Beer_PerCapita\":193,\"Spirit_PerCapita\":25,\"Wine_PerCapita\":221},\"Czech Republic\":{\"Region\":\"Central and Eastern Europe\",\"Hemisphere\":\"north\",\"HappinessScore\":6.596,\"HDI\":885,\"GDP_PerCapita\":18.484,\"Beer_PerCapita\":361,\"Spirit_PerCapita\":170,\"Wine_PerCapita\":134},\"United Arab Emirates\":{\"Region\":\"Middle East and Northern Africa\",\"Hemisphere\":\"north\",\"HappinessScore\":6.573,\"HDI\":862,\"GDP_PerCapita\":38.518,\"Beer_PerCapita\":16,\"Spirit_PerCapita\":135,\"Wine_PerCapita\":5},\"Uruguay\":{\"Region\":\"Latin America and Caribbean\",\"Hemisphere\":\"south\",\"HappinessScore\":6.545,\"HDI\":802,\"GDP_PerCapita\":15.298,\"Beer_PerCapita\":115,\"Spirit_PerCapita\":35,\"Wine_PerCapita\":220},\"Malta\":{\"Region\":\"Western Europe\",\"Hemisphere\":\"north\",\"HappinessScore\":6.488,\"HDI\":875,\"GDP_PerCapita\":24.771,\"Beer_PerCapita\":149,\"Spirit_PerCapita\":100,\"Wine_PerCapita\":120},\"Colombia\":{\"Region\":\"Latin America and Caribbean\",\"Hemisphere\":\"both\",\"HappinessScore\":6.481,\"HDI\":747,\"GDP_PerCapita\":5.757,\"Beer_PerCapita\":159,\"Spirit_PerCapita\":76,\"Wine_PerCapita\":3},\"France\":{\"Region\":\"Western Europe\",\"Hemisphere\":\"north\",\"HappinessScore\":6.478,\"HDI\":899,\"GDP_PerCapita\":36.87,\"Beer_PerCapita\":127,\"Spirit_PerCapita\":151,\"Wine_PerCapita\":370},\"Thailand\":{\"Region\":\"Southeastern Asia\",\"Hemisphere\":\"north\",\"HappinessScore\":6.474,\"HDI\":748,\"GDP_PerCapita\":5.979,\"Beer_PerCapita\":99,\"Spirit_PerCapita\":258,\"Wine_PerCapita\":1},\"Qatar\":{\"Region\":\"Middle East and Northern Africa\",\"Hemisphere\":\"north\",\"HappinessScore\":6.375,\"HDI\":855,\"GDP_PerCapita\":59.324,\"Beer_PerCapita\":1,\"Spirit_PerCapita\":42,\"Wine_PerCapita\":7},\"Spain\":{\"Region\":\"Western Europe\",\"Hemisphere\":\"north\",\"HappinessScore\":6.361,\"HDI\":889,\"GDP_PerCapita\":26.617,\"Beer_PerCapita\":284,\"Spirit_PerCapita\":157,\"Wine_PerCapita\":112},\"Guatemala\":{\"Region\":\"Latin America and Caribbean\",\"Hemisphere\":\"north\",\"HappinessScore\":6.324,\"HDI\":649,\"GDP_PerCapita\":4.141,\"Beer_PerCapita\":53,\"Spirit_PerCapita\":69,\"Wine_PerCapita\":2},\"Suriname\":{\"Region\":\"Latin America and Caribbean\",\"Hemisphere\":\"north\",\"HappinessScore\":6.269,\"HDI\":719,\"GDP_PerCapita\":5.871,\"Beer_PerCapita\":128,\"Spirit_PerCapita\":178,\"Wine_PerCapita\":7},\"Bahrain\":{\"Region\":\"Middle East and Northern Africa\",\"Hemisphere\":\"north\",\"HappinessScore\":6.218,\"HDI\":846,\"GDP_PerCapita\":22.561,\"Beer_PerCapita\":42,\"Spirit_PerCapita\":63,\"Wine_PerCapita\":7},\"Trinidad and Tobago\":{\"Region\":\"Latin America and Caribbean\",\"Hemisphere\":\"north\",\"HappinessScore\":6.168,\"HDI\":785,\"GDP_PerCapita\":16.352,\"Beer_PerCapita\":197,\"Spirit_PerCapita\":156,\"Wine_PerCapita\":7},\"Venezuela\":{\"Region\":\"Latin America and Caribbean\",\"Hemisphere\":\"north\",\"HappinessScore\":6.084,\"HDI\":766,\"GDP_PerCapita\":15.692,\"Beer_PerCapita\":333,\"Spirit_PerCapita\":100,\"Wine_PerCapita\":3},\"Slovakia\":{\"Region\":\"Central and Eastern Europe\",\"Hemisphere\":\"north\",\"HappinessScore\":6.078,\"HDI\":853,\"GDP_PerCapita\":16.53,\"Beer_PerCapita\":196,\"Spirit_PerCapita\":293,\"Wine_PerCapita\":116},\"El Salvador\":{\"Region\":\"Latin America and Caribbean\",\"Hemisphere\":\"north\",\"HappinessScore\":6.068,\"HDI\":679,\"GDP_PerCapita\":3.769,\"Beer_PerCapita\":52,\"Spirit_PerCapita\":69,\"Wine_PerCapita\":2},\"Nicaragua\":{\"Region\":\"Latin America and Caribbean\",\"Hemisphere\":\"north\",\"HappinessScore\":5.992,\"HDI\":657,\"GDP_PerCapita\":2.144,\"Beer_PerCapita\":78,\"Spirit_PerCapita\":118,\"Wine_PerCapita\":1},\"Uzbekistan\":{\"Region\":\"Central and Eastern Europe\",\"Hemisphere\":\"north\",\"HappinessScore\":5.987,\"HDI\":703,\"GDP_PerCapita\":2.106,\"Beer_PerCapita\":25,\"Spirit_PerCapita\":101,\"Wine_PerCapita\":8},\"Italy\":{\"Region\":\"Western Europe\",\"Hemisphere\":\"north\",\"HappinessScore\":5.977,\"HDI\":878,\"GDP_PerCapita\":30.669,\"Beer_PerCapita\":85,\"Spirit_PerCapita\":42,\"Wine_PerCapita\":237},\"Ecuador\":{\"Region\":\"Latin America and Caribbean\",\"Hemisphere\":\"both\",\"HappinessScore\":5.976,\"HDI\":749,\"GDP_PerCapita\":6.019,\"Beer_PerCapita\":162,\"Spirit_PerCapita\":74,\"Wine_PerCapita\":3},\"Belize\":{\"Region\":\"Latin America and Caribbean\",\"Hemisphere\":\"north\",\"HappinessScore\":5.956,\"HDI\":709,\"GDP_PerCapita\":4.96,\"Beer_PerCapita\":263,\"Spirit_PerCapita\":114,\"Wine_PerCapita\":8},\"Japan\":{\"Region\":\"Eastern Asia\",\"Hemisphere\":\"noth\",\"HappinessScore\":5.921,\"HDI\":907,\"GDP_PerCapita\":38.972,\"Beer_PerCapita\":77,\"Spirit_PerCapita\":202,\"Wine_PerCapita\":16},\"Kazakhstan\":{\"Region\":\"Central and Eastern Europe\",\"Hemisphere\":\"north\",\"HappinessScore\":5.919,\"HDI\":797,\"GDP_PerCapita\":7.715,\"Beer_PerCapita\":124,\"Spirit_PerCapita\":246,\"Wine_PerCapita\":12},\"Moldova\":{\"Region\":\"Central and Eastern Europe\",\"Hemisphere\":\"north\",\"HappinessScore\":5.897,\"HDI\":697,\"GDP_PerCapita\":1.913,\"Beer_PerCapita\":109,\"Spirit_PerCapita\":226,\"Wine_PerCapita\":18},\"Russian Federation\":{\"Region\":\"Central and Eastern Europe\",\"Hemisphere\":\"north\",\"HappinessScore\":5.856,\"HDI\":815,\"GDP_PerCapita\":8.748,\"Beer_PerCapita\":247,\"Spirit_PerCapita\":326,\"Wine_PerCapita\":73},\"Poland\":{\"Region\":\"Central and Eastern Europe\",\"Hemisphere\":\"north\",\"HappinessScore\":5.835,\"HDI\":860,\"GDP_PerCapita\":12.415,\"Beer_PerCapita\":343,\"Spirit_PerCapita\":215,\"Wine_PerCapita\":56},\"South Korea\":{\"Region\":\"Eastern Asia\",\"Hemisphere\":\"noth\",\"HappinessScore\":5.835,\"HDI\":900,\"GDP_PerCapita\":27.105,\"Beer_PerCapita\":140,\"Spirit_PerCapita\":16,\"Wine_PerCapita\":9},\"Bolivia\":{\"Region\":\"Latin America and Caribbean\",\"Hemisphere\":\"south\",\"HappinessScore\":5.822,\"HDI\":689,\"GDP_PerCapita\":3.117,\"Beer_PerCapita\":167,\"Spirit_PerCapita\":41,\"Wine_PerCapita\":8},\"Lithuania\":{\"Region\":\"Central and Eastern Europe\",\"Hemisphere\":\"north\",\"HappinessScore\":5.813,\"HDI\":855,\"GDP_PerCapita\":14.913,\"Beer_PerCapita\":343,\"Spirit_PerCapita\":244,\"Wine_PerCapita\":56},\"Belarus\":{\"Region\":\"Central and Eastern Europe\",\"Hemisphere\":\"north\",\"HappinessScore\":5.802,\"HDI\":805,\"GDP_PerCapita\":5.023,\"Beer_PerCapita\":142,\"Spirit_PerCapita\":373,\"Wine_PerCapita\":42},\"Slovenia\":{\"Region\":\"Central and Eastern Europe\",\"Hemisphere\":\"north\",\"HappinessScore\":5.768,\"HDI\":894,\"GDP_PerCapita\":21.65,\"Beer_PerCapita\":270,\"Spirit_PerCapita\":51,\"Wine_PerCapita\":276},\"Peru\":{\"Region\":\"Latin America and Caribbean\",\"Hemisphere\":\"both\",\"HappinessScore\":5.743,\"HDI\":748,\"GDP_PerCapita\":6.031,\"Beer_PerCapita\":163,\"Spirit_PerCapita\":160,\"Wine_PerCapita\":21},\"Turkmenistan\":{\"Region\":\"Central and Eastern Europe\",\"Hemisphere\":\"north\",\"HappinessScore\":5.658,\"HDI\":705,\"GDP_PerCapita\":6.389,\"Beer_PerCapita\":19,\"Spirit_PerCapita\":71,\"Wine_PerCapita\":32},\"Mauritius\":{\"Region\":\"Sub-Saharan Africa\",\"Hemisphere\":\"north\",\"HappinessScore\":5.648,\"HDI\":788,\"GDP_PerCapita\":9.682,\"Beer_PerCapita\":98,\"Spirit_PerCapita\":31,\"Wine_PerCapita\":18},\"Latvia\":{\"Region\":\"Central and Eastern Europe\",\"Hemisphere\":\"north\",\"HappinessScore\":5.56,\"HDI\":844,\"GDP_PerCapita\":14.07,\"Beer_PerCapita\":281,\"Spirit_PerCapita\":216,\"Wine_PerCapita\":62},\"Cyprus\":{\"Region\":\"Western Europe\",\"Hemisphere\":\"north\",\"HappinessScore\":5.546,\"HDI\":867,\"GDP_PerCapita\":23.541,\"Beer_PerCapita\":192,\"Spirit_PerCapita\":154,\"Wine_PerCapita\":113},\"Paraguay\":{\"Region\":\"Latin America and Caribbean\",\"Hemisphere\":\"south\",\"HappinessScore\":5.538,\"HDI\":702,\"GDP_PerCapita\":4.078,\"Beer_PerCapita\":213,\"Spirit_PerCapita\":117,\"Wine_PerCapita\":74},\"Romania\":{\"Region\":\"Central and Eastern Europe\",\"Hemisphere\":\"north\",\"HappinessScore\":5.528,\"HDI\":807,\"GDP_PerCapita\":9.532,\"Beer_PerCapita\":297,\"Spirit_PerCapita\":122,\"Wine_PerCapita\":167},\"Estonia\":{\"Region\":\"Central and Eastern Europe\",\"Hemisphere\":\"north\",\"HappinessScore\":5.517,\"HDI\":868,\"GDP_PerCapita\":17.737,\"Beer_PerCapita\":224,\"Spirit_PerCapita\":194,\"Wine_PerCapita\":59},\"Jamaica\":{\"Region\":\"Latin America and Caribbean\",\"Hemisphere\":\"north\",\"HappinessScore\":5.51,\"HDI\":732,\"GDP_PerCapita\":4.879,\"Beer_PerCapita\":82,\"Spirit_PerCapita\":97,\"Wine_PerCapita\":9},\"Croatia\":{\"Region\":\"Central and Eastern Europe\",\"Hemisphere\":\"north\",\"HappinessScore\":5.488,\"HDI\":828,\"GDP_PerCapita\":12.299,\"Beer_PerCapita\":230,\"Spirit_PerCapita\":87,\"Wine_PerCapita\":254},\"Turkey\":{\"Region\":\"Middle East and Northern Africa\",\"Hemisphere\":\"north\",\"HappinessScore\":5.389,\"HDI\":787,\"GDP_PerCapita\":10.863,\"Beer_PerCapita\":51,\"Spirit_PerCapita\":22,\"Wine_PerCapita\":7},\"Jordan\":{\"Region\":\"Middle East and Northern Africa\",\"Hemisphere\":\"north\",\"HappinessScore\":5.303,\"HDI\":735,\"GDP_PerCapita\":4.088,\"Beer_PerCapita\":6,\"Spirit_PerCapita\":21,\"Wine_PerCapita\":1},\"Azerbaijan\":{\"Region\":\"Central and Eastern Europe\",\"Hemisphere\":\"north\",\"HappinessScore\":5.291,\"HDI\":757,\"GDP_PerCapita\":3.881,\"Beer_PerCapita\":21,\"Spirit_PerCapita\":46,\"Wine_PerCapita\":5},\"Philippines\":{\"Region\":\"Southeastern Asia\",\"Hemisphere\":\"north\",\"HappinessScore\":5.279,\"HDI\":696,\"GDP_PerCapita\":2.951,\"Beer_PerCapita\":71,\"Spirit_PerCapita\":186,\"Wine_PerCapita\":1},\"China\":{\"Region\":\"Eastern Asia\",\"Hemisphere\":\"noth\",\"HappinessScore\":5.245,\"HDI\":748,\"GDP_PerCapita\":8.117,\"Beer_PerCapita\":79,\"Spirit_PerCapita\":192,\"Wine_PerCapita\":8},\"Kyrgyzstan\":{\"Region\":\"Central and Eastern Europe\",\"Hemisphere\":\"north\",\"HappinessScore\":5.185,\"HDI\":669,\"GDP_PerCapita\":1.22,\"Beer_PerCapita\":31,\"Spirit_PerCapita\":97,\"Wine_PerCapita\":6},\"Serbia\":{\"Region\":\"Central and Eastern Europe\",\"Hemisphere\":\"north\",\"HappinessScore\":5.177,\"HDI\":785,\"GDP_PerCapita\":5.426,\"Beer_PerCapita\":283,\"Spirit_PerCapita\":131,\"Wine_PerCapita\":127},\"Bosnia and Herzegovina\":{\"Region\":\"Central and Eastern Europe\",\"Hemisphere\":\"north\",\"HappinessScore\":5.163,\"HDI\":766,\"GDP_PerCapita\":4.809,\"Beer_PerCapita\":76,\"Spirit_PerCapita\":173,\"Wine_PerCapita\":8},\"Montenegro\":{\"Region\":\"Central and Eastern Europe\",\"Hemisphere\":\"north\",\"HappinessScore\":5.161,\"HDI\":810,\"GDP_PerCapita\":7.029,\"Beer_PerCapita\":31,\"Spirit_PerCapita\":114,\"Wine_PerCapita\":128},\"Dominican Republic\":{\"Region\":\"Latin America and Caribbean\",\"Hemisphere\":\"north\",\"HappinessScore\":5.155,\"HDI\":733,\"GDP_PerCapita\":6.794,\"Beer_PerCapita\":193,\"Spirit_PerCapita\":147,\"Wine_PerCapita\":9},\"Morocco\":{\"Region\":\"Middle East and Northern Africa\",\"Hemisphere\":\"north\",\"HappinessScore\":5.151,\"HDI\":662,\"GDP_PerCapita\":2.893,\"Beer_PerCapita\":12,\"Spirit_PerCapita\":6,\"Wine_PerCapita\":10},\"Hungary\":{\"Region\":\"Central and Eastern Europe\",\"Hemisphere\":\"north\",\"HappinessScore\":5.145,\"HDI\":835,\"GDP_PerCapita\":12.82,\"Beer_PerCapita\":234,\"Spirit_PerCapita\":215,\"Wine_PerCapita\":185},\"Lebanon\":{\"Region\":\"Middle East and Northern Africa\",\"Hemisphere\":\"north\",\"HappinessScore\":5.129,\"HDI\":753,\"GDP_PerCapita\":8.257,\"Beer_PerCapita\":20,\"Spirit_PerCapita\":55,\"Wine_PerCapita\":31},\"Portugal\":{\"Region\":\"Western Europe\",\"Hemisphere\":\"north\",\"HappinessScore\":5.123,\"HDI\":845,\"GDP_PerCapita\":19.872,\"Beer_PerCapita\":194,\"Spirit_PerCapita\":67,\"Wine_PerCapita\":339},\"Macedonia\":{\"Region\":\"Central and Eastern Europe\",\"Hemisphere\":\"north\",\"HappinessScore\":5.121,\"HDI\":756,\"GDP_PerCapita\":4.834,\"Beer_PerCapita\":106,\"Spirit_PerCapita\":27,\"Wine_PerCapita\":86},\"Vietnam\":{\"Region\":\"Southeastern Asia\",\"Hemisphere\":\"north\",\"HappinessScore\":5.061,\"HDI\":689,\"GDP_PerCapita\":2.171,\"Beer_PerCapita\":111,\"Spirit_PerCapita\":2,\"Wine_PerCapita\":1},\"Tunisia\":{\"Region\":\"Middle East and Northern Africa\",\"Hemisphere\":\"north\",\"HappinessScore\":5.045,\"HDI\":732,\"GDP_PerCapita\":3.689,\"Beer_PerCapita\":51,\"Spirit_PerCapita\":3,\"Wine_PerCapita\":20},\"Greece\":{\"Region\":\"Western Europe\",\"Hemisphere\":\"north\",\"HappinessScore\":5.033,\"HDI\":868,\"GDP_PerCapita\":17.882,\"Beer_PerCapita\":133,\"Spirit_PerCapita\":112,\"Wine_PerCapita\":218},\"Mongolia\":{\"Region\":\"Eastern Asia\",\"Hemisphere\":\"noth\",\"HappinessScore\":4.907,\"HDI\":743,\"GDP_PerCapita\":3.694,\"Beer_PerCapita\":77,\"Spirit_PerCapita\":189,\"Wine_PerCapita\":8},\"Nigeria\":{\"Region\":\"Sub-Saharan Africa\",\"Hemisphere\":\"north\",\"HappinessScore\":4.875,\"HDI\":530,\"GDP_PerCapita\":2.176,\"Beer_PerCapita\":42,\"Spirit_PerCapita\":5,\"Wine_PerCapita\":2},\"Honduras\":{\"Region\":\"Latin America and Caribbean\",\"Hemisphere\":\"north\",\"HappinessScore\":4.871,\"HDI\":614,\"GDP_PerCapita\":2.375,\"Beer_PerCapita\":69,\"Spirit_PerCapita\":98,\"Wine_PerCapita\":2},\"Zambia\":{\"Region\":\"Sub-Saharan Africa\",\"Hemisphere\":\"south\",\"HappinessScore\":4.795,\"HDI\":586,\"GDP_PerCapita\":1.263,\"Beer_PerCapita\":32,\"Spirit_PerCapita\":19,\"Wine_PerCapita\":4},\"Albania\":{\"Region\":\"Central and Eastern Europe\",\"Hemisphere\":\"north\",\"HappinessScore\":4.655,\"HDI\":782,\"GDP_PerCapita\":4.132,\"Beer_PerCapita\":89,\"Spirit_PerCapita\":132,\"Wine_PerCapita\":54},\"Sierra Leone\":{\"Region\":\"Sub-Saharan Africa\",\"Hemisphere\":\"north\",\"HappinessScore\":4.635,\"HDI\":413,\"GDP_PerCapita\":481.0,\"Beer_PerCapita\":25,\"Spirit_PerCapita\":3,\"Wine_PerCapita\":2},\"Namibia\":{\"Region\":\"Sub-Saharan Africa\",\"Hemisphere\":\"south\",\"HappinessScore\":4.574,\"HDI\":645,\"GDP_PerCapita\":4.561,\"Beer_PerCapita\":376,\"Spirit_PerCapita\":3,\"Wine_PerCapita\":1},\"Cameroon\":{\"Region\":\"Sub-Saharan Africa\",\"Hemisphere\":\"south\",\"HappinessScore\":4.513,\"HDI\":553,\"GDP_PerCapita\":1.375,\"Beer_PerCapita\":147,\"Spirit_PerCapita\":1,\"Wine_PerCapita\":4},\"South Africa\":{\"Region\":\"Sub-Saharan Africa\",\"Hemisphere\":\"south\",\"HappinessScore\":4.459,\"HDI\":696,\"GDP_PerCapita\":5.28,\"Beer_PerCapita\":225,\"Spirit_PerCapita\":76,\"Wine_PerCapita\":81},\"Egypt\":{\"Region\":\"Middle East and Northern Africa\",\"Hemisphere\":\"north\",\"HappinessScore\":4.362,\"HDI\":694,\"GDP_PerCapita\":3.548,\"Beer_PerCapita\":6,\"Spirit_PerCapita\":4,\"Wine_PerCapita\":1},\"Armenia\":{\"Region\":\"Central and Eastern Europe\",\"Hemisphere\":\"north\",\"HappinessScore\":4.36,\"HDI\":749,\"GDP_PerCapita\":3.606,\"Beer_PerCapita\":21,\"Spirit_PerCapita\":179,\"Wine_PerCapita\":11},\"Kenya\":{\"Region\":\"Sub-Saharan Africa\",\"Hemisphere\":\"both\",\"HappinessScore\":4.356,\"HDI\":585,\"GDP_PerCapita\":1.463,\"Beer_PerCapita\":58,\"Spirit_PerCapita\":22,\"Wine_PerCapita\":2},\"Ukraine\":{\"Region\":\"Central and Eastern Europe\",\"Hemisphere\":\"north\",\"HappinessScore\":4.324,\"HDI\":746,\"GDP_PerCapita\":2.186,\"Beer_PerCapita\":206,\"Spirit_PerCapita\":237,\"Wine_PerCapita\":45},\"Ghana\":{\"Region\":\"Sub-Saharan Africa\",\"Hemisphere\":\"north\",\"HappinessScore\":4.276,\"HDI\":588,\"GDP_PerCapita\":1.517,\"Beer_PerCapita\":31,\"Spirit_PerCapita\":3,\"Wine_PerCapita\":10},\"Dem. Rep. Congo\":{\"Region\":\"Sub-Saharan Africa\",\"Hemisphere\":\"south\",\"HappinessScore\":4.272,\"HDI\":452,\"GDP_PerCapita\":1.712,\"Beer_PerCapita\":32,\"Spirit_PerCapita\":3,\"Wine_PerCapita\":1},\"Georgia\":{\"Region\":\"Central and Eastern Europe\",\"Hemisphere\":\"north\",\"HappinessScore\":4.252,\"HDI\":776,\"GDP_PerCapita\":3.866,\"Beer_PerCapita\":52,\"Spirit_PerCapita\":100,\"Wine_PerCapita\":149},\"Rep. Congo\":{\"Region\":\"Sub-Saharan Africa\",\"Hemisphere\":\"south\",\"HappinessScore\":4.236,\"HDI\":612,\"GDP_PerCapita\":498.0,\"Beer_PerCapita\":76,\"Spirit_PerCapita\":1,\"Wine_PerCapita\":9},\"Senegal\":{\"Region\":\"Sub-Saharan Africa\",\"Hemisphere\":\"north\",\"HappinessScore\":4.219,\"HDI\":499,\"GDP_PerCapita\":953.0,\"Beer_PerCapita\":9,\"Spirit_PerCapita\":1,\"Wine_PerCapita\":7},\"Bulgaria\":{\"Region\":\"Central and Eastern Europe\",\"Hemisphere\":\"north\",\"HappinessScore\":4.217,\"HDI\":810,\"GDP_PerCapita\":7.469,\"Beer_PerCapita\":231,\"Spirit_PerCapita\":252,\"Wine_PerCapita\":94},\"Zimbabwe\":{\"Region\":\"Sub-Saharan Africa\",\"Hemisphere\":\"south\",\"HappinessScore\":4.193,\"HDI\":532,\"GDP_PerCapita\":1.029,\"Beer_PerCapita\":64,\"Spirit_PerCapita\":18,\"Wine_PerCapita\":4},\"Malawi\":{\"Region\":\"Sub-Saharan Africa\",\"Hemisphere\":\"south\",\"HappinessScore\":4.156,\"HDI\":474,\"GDP_PerCapita\":300.0,\"Beer_PerCapita\":8,\"Spirit_PerCapita\":11,\"Wine_PerCapita\":1},\"Gabon\":{\"Region\":\"Sub-Saharan Africa\",\"Hemisphere\":\"south\",\"HappinessScore\":4.121,\"HDI\":698,\"GDP_PerCapita\":7.079,\"Beer_PerCapita\":347,\"Spirit_PerCapita\":98,\"Wine_PerCapita\":59},\"Mali\":{\"Region\":\"Sub-Saharan Africa\",\"Hemisphere\":\"north\",\"HappinessScore\":4.073,\"HDI\":421,\"GDP_PerCapita\":780.0,\"Beer_PerCapita\":5,\"Spirit_PerCapita\":1,\"Wine_PerCapita\":1},\"Haiti\":{\"Region\":\"Latin America and Caribbean\",\"Hemisphere\":\"north\",\"HappinessScore\":4.028,\"HDI\":496,\"GDP_PerCapita\":735.0,\"Beer_PerCapita\":1,\"Spirit_PerCapita\":326,\"Wine_PerCapita\":1},\"Botswana\":{\"Region\":\"Sub-Saharan Africa\",\"Hemisphere\":\"south\",\"HappinessScore\":3.974,\"HDI\":712,\"GDP_PerCapita\":6.954,\"Beer_PerCapita\":173,\"Spirit_PerCapita\":35,\"Wine_PerCapita\":35},\"Comoros\":{\"Region\":\"Sub-Saharan Africa\",\"Hemisphere\":\"south\",\"HappinessScore\":3.956,\"HDI\":502,\"GDP_PerCapita\":775.0,\"Beer_PerCapita\":1,\"Spirit_PerCapita\":3,\"Wine_PerCapita\":1},\"Cote d\\'Ivoire\":{\"Region\":\"Sub-Saharan Africa\",\"Hemisphere\":\"north\",\"HappinessScore\":3.916,\"HDI\":486,\"GDP_PerCapita\":1.535,\"Beer_PerCapita\":37,\"Spirit_PerCapita\":1,\"Wine_PerCapita\":7},\"Cambodia\":{\"Region\":\"Southeastern Asia\",\"Hemisphere\":\"north\",\"HappinessScore\":3.907,\"HDI\":576,\"GDP_PerCapita\":1.27,\"Beer_PerCapita\":57,\"Spirit_PerCapita\":65,\"Wine_PerCapita\":1},\"Angola\":{\"Region\":\"Sub-Saharan Africa\",\"Hemisphere\":\"south\",\"HappinessScore\":3.866,\"HDI\":577,\"GDP_PerCapita\":3.309,\"Beer_PerCapita\":217,\"Spirit_PerCapita\":57,\"Wine_PerCapita\":45},\"Niger\":{\"Region\":\"Sub-Saharan Africa\",\"Hemisphere\":\"north\",\"HappinessScore\":3.856,\"HDI\":351,\"GDP_PerCapita\":368.0,\"Beer_PerCapita\":3,\"Spirit_PerCapita\":2,\"Wine_PerCapita\":1},\"Chad\":{\"Region\":\"Sub-Saharan Africa\",\"Hemisphere\":\"north\",\"HappinessScore\":3.763,\"HDI\":405,\"GDP_PerCapita\":651.0,\"Beer_PerCapita\":15,\"Spirit_PerCapita\":1,\"Wine_PerCapita\":1},\"Burkina Faso\":{\"Region\":\"Sub-Saharan Africa\",\"Hemisphere\":\"north\",\"HappinessScore\":3.739,\"HDI\":420,\"GDP_PerCapita\":614.0,\"Beer_PerCapita\":25,\"Spirit_PerCapita\":7,\"Wine_PerCapita\":7},\"Madagascar\":{\"Region\":\"Sub-Saharan Africa\",\"Hemisphere\":\"south\",\"HappinessScore\":3.695,\"HDI\":517,\"GDP_PerCapita\":402.0,\"Beer_PerCapita\":26,\"Spirit_PerCapita\":15,\"Wine_PerCapita\":4},\"Tanzania\":{\"Region\":\"Sub-Saharan Africa\",\"Hemisphere\":\"south\",\"HappinessScore\":3.666,\"HDI\":533,\"GDP_PerCapita\":878.0,\"Beer_PerCapita\":36,\"Spirit_PerCapita\":6,\"Wine_PerCapita\":1},\"Liberia\":{\"Region\":\"Sub-Saharan Africa\",\"Hemisphere\":\"north\",\"HappinessScore\":3.622,\"HDI\":432,\"GDP_PerCapita\":455.0,\"Beer_PerCapita\":19,\"Spirit_PerCapita\":152,\"Wine_PerCapita\":2},\"Benin\":{\"Region\":\"Sub-Saharan Africa\",\"Hemisphere\":\"north\",\"HappinessScore\":3.484,\"HDI\":512,\"GDP_PerCapita\":789.0,\"Beer_PerCapita\":34,\"Spirit_PerCapita\":4,\"Wine_PerCapita\":13},\"Togo\":{\"Region\":\"Sub-Saharan Africa\",\"Hemisphere\":\"north\",\"HappinessScore\":3.303,\"HDI\":500,\"GDP_PerCapita\":577.0,\"Beer_PerCapita\":36,\"Spirit_PerCapita\":2,\"Wine_PerCapita\":19},\"Syria\":{\"Region\":\"Middle East and Northern Africa\",\"Hemisphere\":\"north\",\"HappinessScore\":3.069,\"HDI\":536,\"GDP_PerCapita\":2.058,\"Beer_PerCapita\":5,\"Spirit_PerCapita\":35,\"Wine_PerCapita\":16}}'"
      ]
     },
     "execution_count": 4,
     "metadata": {},
     "output_type": "execute_result"
    }
   ],
   "source": [
    "json_test = loc_transposed.to_json()\n",
    "json_test"
   ]
  },
  {
   "cell_type": "code",
   "execution_count": 6,
   "metadata": {},
   "outputs": [],
   "source": [
    "with open('dataset.json', 'w') as f:\n",
    "    json.dump(json_test, f)"
   ]
  },
  {
   "cell_type": "code",
   "execution_count": null,
   "metadata": {},
   "outputs": [],
   "source": []
  }
 ],
 "metadata": {
  "kernelspec": {
   "display_name": "Python 3",
   "language": "python",
   "name": "python3"
  },
  "language_info": {
   "codemirror_mode": {
    "name": "ipython",
    "version": 3
   },
   "file_extension": ".py",
   "mimetype": "text/x-python",
   "name": "python",
   "nbconvert_exporter": "python",
   "pygments_lexer": "ipython3",
   "version": "3.7.6"
  }
 },
 "nbformat": 4,
 "nbformat_minor": 4
}
